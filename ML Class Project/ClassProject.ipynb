{
 "cells": [
  {
   "cell_type": "code",
   "execution_count": null,
   "id": "51c6118c-688c-4838-80aa-412254a6906e",
   "metadata": {},
   "outputs": [],
   "source": [
    "import pandas as pd\n",
    "import os\n",
    "import matplotlib.pyplot as plt\n",
    "import numpy as np"
   ]
  },
  {
   "cell_type": "code",
   "execution_count": null,
   "id": "35ba0271-87cf-4a0a-9a3d-e55411bf6ee4",
   "metadata": {},
   "outputs": [],
   "source": [
    "#this code dynamically creates a file path to a file named \"housing.csv\" located within the\n",
    "#current working directory, making it adaptable regardless of where the script is executed\n",
    "pwd = os.getcwd()\n",
    "filepath = os.path.join(pwd, \"housing.csv\")\n",
    "filepath"
   ]
  },
  {
   "cell_type": "code",
   "execution_count": null,
   "id": "2091be1f-4f43-4fba-98f5-22c69e44b96f",
   "metadata": {},
   "outputs": [],
   "source": [
    "housing_data = pd.read_csv(filepath)\n",
    "housing_data"
   ]
  },
  {
   "cell_type": "code",
   "execution_count": null,
   "id": "860088bb-e5af-4995-a586-eabd178e7854",
   "metadata": {},
   "outputs": [],
   "source": [
    "housing_data.info()"
   ]
  },
  {
   "cell_type": "code",
   "execution_count": null,
   "id": "50acd0bf-bd54-4842-9d28-3d80995dbd60",
   "metadata": {},
   "outputs": [],
   "source": [
    "housing_data[\"ocean_proximity\"].value_counts().plot(kind=\"barh\")"
   ]
  },
  {
   "cell_type": "code",
   "execution_count": null,
   "id": "63f66d08-c9c8-4602-bb75-a5d8e0f5ab85",
   "metadata": {},
   "outputs": [],
   "source": [
    "housing_data.describe()"
   ]
  },
  {
   "cell_type": "code",
   "execution_count": null,
   "id": "18108b25-120c-473e-9028-53af78201c6d",
   "metadata": {},
   "outputs": [],
   "source": [
    "housing_data[\"median_income\"].hist()"
   ]
  },
  {
   "cell_type": "code",
   "execution_count": null,
   "id": "c44157b4-c7d0-415a-90b3-8badd2a7576d",
   "metadata": {},
   "outputs": [],
   "source": [
    "housing_data[\"income_category\"] = pd.cut(housing_data[\"median_income\"],\n",
    "                                        bins=[0., 1.5, 3.0, 4.5, 6., np.inf],\n",
    "                                        labels=[1, 2, 3, 4, 5])\n",
    "housing_data[\"income_category\"].value_counts()"
   ]
  },
  {
   "cell_type": "code",
   "execution_count": null,
   "id": "8991ce5e-adb7-4fc9-ac9d-18a35978b800",
   "metadata": {},
   "outputs": [],
   "source": [
    "housing_data[\"income_category\"].hist()"
   ]
  },
  {
   "cell_type": "code",
   "execution_count": null,
   "id": "838dbf5a-e4cb-4ba6-a45d-1c4877490fcf",
   "metadata": {},
   "outputs": [],
   "source": [
    "y = housing_data[\"median_house_value\"]\n",
    "X = housing_data.drop(\"median_house_value\", axis=1)\n",
    "X"
   ]
  },
  {
   "cell_type": "markdown",
   "id": "2ce72c2e-89e4-41bb-8bc3-a682d1ef1661",
   "metadata": {
    "jp-MarkdownHeadingCollapsed": true
   },
   "source": [
    "# Split Datasets"
   ]
  },
  {
   "cell_type": "code",
   "execution_count": null,
   "id": "8010f287-3a66-46a2-8849-9b8d11c2b379",
   "metadata": {},
   "outputs": [],
   "source": [
    "from sklearn.model_selection import train_test_split\n",
    "\n",
    "X_train, X_test, y_train, y_test = train_test_split(X, y, test_size=0.33)\n",
    "X_train"
   ]
  },
  {
   "cell_type": "code",
   "execution_count": null,
   "id": "889515e0-3ca3-4757-9d48-c5e9ca81b910",
   "metadata": {},
   "outputs": [],
   "source": [
    "housing_data[\"income_category\"].hist()"
   ]
  },
  {
   "cell_type": "code",
   "execution_count": null,
   "id": "16fb1aa4-2289-4f72-bee0-6da7a6dd788f",
   "metadata": {},
   "outputs": [],
   "source": [
    "X_train[\"income_category\"].hist()"
   ]
  },
  {
   "cell_type": "markdown",
   "id": "7b7635f4-42b6-4bf1-bbe8-04515844ce16",
   "metadata": {
    "jp-MarkdownHeadingCollapsed": true
   },
   "source": [
    "# Stratified Split"
   ]
  },
  {
   "cell_type": "code",
   "execution_count": null,
   "id": "0fe87ed1-eda9-4914-ab41-3540cbf9ac32",
   "metadata": {},
   "outputs": [],
   "source": [
    "    #This code snippet effectively splits our data into a stratified training set \n",
    "    #and a testing set using the StratifiedShuffleSplit class. The training set will \n",
    "    #have a similar distribution of income categories as the original data, which is \n",
    "    #important for machine learning tasks where class imbalances can lead to biased models.\n",
    "\n",
    "    from sklearn.model_selection import StratifiedShuffleSplit\n",
    "    split = StratifiedShuffleSplit(n_splits=1, test_size=0.2, random_state=42)\n",
    "\n",
    "    for train_index, test_index in split.split(housing_data, housing_data[\"income_category\"]):\n",
    "        strat_train_set = housing_data.loc[train_index]\n",
    "        strat_test_set = housing_data.loc[test_index]"
   ]
  },
  {
   "cell_type": "code",
   "execution_count": null,
   "id": "3bc31a97-e527-4efc-b11e-001571e22f0a",
   "metadata": {},
   "outputs": [],
   "source": [
    "strat_test_set[\"income_category\"].value_counts() / len(strat_test_set)"
   ]
  },
  {
   "cell_type": "code",
   "execution_count": null,
   "id": "439d3403-a74f-46c4-bb7b-ed9ad29a1765",
   "metadata": {},
   "outputs": [],
   "source": [
    "strat_train_set.drop(\"income_category\", axis=\"columns\", inplace=True)\n",
    "strat_test_set.drop(\"income_category\", axis=\"columns\", inplace=True)"
   ]
  },
  {
   "cell_type": "markdown",
   "id": "90bd34d4-dab9-49ed-ae43-89c059ccceb9",
   "metadata": {},
   "source": [
    "# Visualizing our Data\n",
    "Doing this upfront helps us create more objective visualizations by eliminating potential biases that can come with how we choose to present the data visually"
   ]
  },
  {
   "cell_type": "markdown",
   "id": "800afdf8-7a39-401c-be59-42b571d72d68",
   "metadata": {
    "jp-MarkdownHeadingCollapsed": true
   },
   "source": [
    "## Histograms"
   ]
  },
  {
   "cell_type": "code",
   "execution_count": null,
   "id": "d5916b73-4e78-43e7-9b4b-93d78025985b",
   "metadata": {},
   "outputs": [],
   "source": [
    "housing = strat_train_set.copy()"
   ]
  },
  {
   "cell_type": "code",
   "execution_count": null,
   "id": "71158de1-7ab9-40de-9304-a0ad0f19e0b0",
   "metadata": {},
   "outputs": [],
   "source": [
    "housing"
   ]
  },
  {
   "cell_type": "code",
   "execution_count": null,
   "id": "5f5899d3-0fd6-44c1-bcbb-5a28e1d127f2",
   "metadata": {},
   "outputs": [],
   "source": [
    "housing.hist(bins=50, figsize=(20, 15))"
   ]
  },
  {
   "cell_type": "code",
   "execution_count": null,
   "id": "091d6942-7e30-48dc-9d3c-1483c2ebe5be",
   "metadata": {},
   "outputs": [],
   "source": [
    "housing[\"median_income\"].hist()"
   ]
  },
  {
   "cell_type": "markdown",
   "id": "1d2da9e6-34db-4039-9ebe-53497bca59fb",
   "metadata": {
    "jp-MarkdownHeadingCollapsed": true
   },
   "source": [
    "## Geographic Data"
   ]
  },
  {
   "cell_type": "code",
   "execution_count": null,
   "id": "c71c3d0f-caa0-4ef2-8380-85054a986631",
   "metadata": {},
   "outputs": [],
   "source": [
    "housing.plot(kind=\"scatter\", x=\"longitude\", y=\"latitude\", alpha=0.4,\n",
    "            s=housing[\"population\"]/100, label=\"population\", figsize=(10,7),\n",
    "            c=\"median_house_value\", cmap=plt.get_cmap(\"jet\"), colorbar=True,\n",
    "            sharex=False)"
   ]
  },
  {
   "cell_type": "markdown",
   "id": "bea1852a-f4fc-437f-92a7-2a1fa3149f7c",
   "metadata": {
    "jp-MarkdownHeadingCollapsed": true
   },
   "source": [
    "## Correlation Matrices"
   ]
  },
  {
   "cell_type": "code",
   "execution_count": null,
   "id": "7613c7f4-ab30-41ee-98da-d7e9fa5395b9",
   "metadata": {},
   "outputs": [],
   "source": [
    "#faced error- 'could not convert string to float: 'INLAND''\n",
    "\n",
    "# converting to numeric (replace other errors with 'coerce' as needed)\n",
    "housing['ocean_proximity'] = pd.to_numeric(housing['ocean_proximity'], errors='coerce')\n",
    "\n",
    "# Now 'housing.corr()' works without the error\n",
    "correlation_matrix = housing.corr()\n",
    "\n",
    "housing.corr()"
   ]
  },
  {
   "cell_type": "code",
   "execution_count": null,
   "id": "602c8f4c-3d3a-4533-8fb4-51ec2b65b7f8",
   "metadata": {},
   "outputs": [],
   "source": [
    "#This code creates a correlation heatmap using the Seaborn library to visualize the relationships between features in our\n",
    "#housing DataFrame, allowing us to identify strong positive or negative relationships that might be relevant for further analysis.\n",
    "\n",
    "import seaborn as sns\n",
    "corr = housing.corr()\n",
    "\n",
    "mask=np.triu(np.ones_like(corr, dtype=bool))\n",
    "\n",
    "f, ax = plt.subplots(figsize=(11, 9))\n",
    "cmap = sns.diverging_palette(230, 20, as_cmap=True)\n",
    "sns.heatmap(corr, mask=mask, cmap=cmap, vmax=.3, center=0,\n",
    "           square=True, linewidths=.5, cbar_kws={\"shrink\": .5})"
   ]
  },
  {
   "cell_type": "markdown",
   "id": "422c3ddc-d67c-4aac-8d77-f69425f9b97a",
   "metadata": {
    "jp-MarkdownHeadingCollapsed": true
   },
   "source": [
    "# Preparing Data for Machine Learnig"
   ]
  },
  {
   "cell_type": "code",
   "execution_count": null,
   "id": "7c1b81a0-ade1-4999-8864-7cc61f9e9daf",
   "metadata": {},
   "outputs": [],
   "source": [
    "housing = strat_train_set.drop(\"median_house_value\", axis=1)\n",
    "housing_labels = strat_train_set[\"median_house_value\"].copy()"
   ]
  },
  {
   "cell_type": "markdown",
   "id": "5d445ec6-4b65-491a-be8f-24dab0f4607a",
   "metadata": {},
   "source": [
    "## Dealing with Missing values"
   ]
  },
  {
   "cell_type": "code",
   "execution_count": null,
   "id": "bf98f943-3b12-4080-9044-b8f5e3f7ab47",
   "metadata": {},
   "outputs": [],
   "source": [
    "#this code finds rows in housing that have at least one missing value and then displays \n",
    "#the first few of those rows (containing missing values) for further inspection.\n",
    "\n",
    "sample_incomplete_rows = housing[housing.isnull().any(axis=1)].head()\n",
    "sample_incomplete_rows"
   ]
  },
  {
   "cell_type": "code",
   "execution_count": null,
   "id": "36fd482a-1fdb-44e8-a2b4-ae0b4c45bad8",
   "metadata": {},
   "outputs": [],
   "source": [
    "sample_incomplete_rows.dropna(subset=[\"total_bedrooms\"])"
   ]
  },
  {
   "cell_type": "markdown",
   "id": "d265b77d-df87-4cb3-bb14-56491be53a22",
   "metadata": {
    "jp-MarkdownHeadingCollapsed": true
   },
   "source": [
    "### Imputing data"
   ]
  },
  {
   "cell_type": "code",
   "execution_count": null,
   "id": "5934fc1a-73ac-4da9-92e0-51752643170d",
   "metadata": {},
   "outputs": [],
   "source": [
    "from sklearn.impute import SimpleImputer\n",
    "imputer = SimpleImputer(strategy=\"median\")"
   ]
  },
  {
   "cell_type": "code",
   "execution_count": null,
   "id": "b71689b5-1bb5-49f2-8e6e-c5ddb0954178",
   "metadata": {},
   "outputs": [],
   "source": [
    "housing_num = housing.select_dtypes(include=[np.number])\n",
    "housing_num"
   ]
  },
  {
   "cell_type": "code",
   "execution_count": null,
   "id": "dfa419b6-3e54-4729-a1d0-b9e9cfb2c4cf",
   "metadata": {},
   "outputs": [],
   "source": [
    "imputer.fit(housing_num)"
   ]
  },
  {
   "cell_type": "code",
   "execution_count": null,
   "id": "626c9a47-8e7b-4c13-8574-c2634c297d61",
   "metadata": {},
   "outputs": [],
   "source": [
    "# this code takes a DataFrame housing_num, which contains numerical data related to housing,\n",
    "# applies an imputation strategy to handle missing values, and then creates a new DataFrame \n",
    "# called 'housing_tr' containing the transformed data.\n",
    "\n",
    "X = imputer.transform(housing_num)\n",
    "\n",
    "housing_tr = pd.DataFrame(X, columns=housing_num.columns, index=housing_num.index)\n",
    "housing_tr"
   ]
  },
  {
   "cell_type": "code",
   "execution_count": null,
   "id": "b9da298a-1f92-4e5a-ac83-ea3c2379c5bf",
   "metadata": {},
   "outputs": [],
   "source": [
    "imputer.strategy"
   ]
  },
  {
   "cell_type": "markdown",
   "id": "a6f18659-d010-495b-ae82-3914ec2d71d5",
   "metadata": {
    "jp-MarkdownHeadingCollapsed": true
   },
   "source": [
    "## Encoding Categorical Data"
   ]
  },
  {
   "cell_type": "code",
   "execution_count": null,
   "id": "5773543d-99b4-4f4e-8e15-2b4a1e4d15c8",
   "metadata": {},
   "outputs": [],
   "source": [
    "housing_category = housing[[\"ocean_proximity\"]]\n",
    "housing_category.head(10)"
   ]
  },
  {
   "cell_type": "code",
   "execution_count": null,
   "id": "16d2d986-2c9a-4ec4-972d-9f3771d855a5",
   "metadata": {},
   "outputs": [],
   "source": [
    "#this code segment uses OrdinalEncoder to convert categorical features in housing_category into numerical representations stored in housing_cat_encoded\n",
    "\n",
    "from sklearn.preprocessing import OrdinalEncoder\n",
    "\n",
    "ordinal_encoder = OrdinalEncoder()\n",
    "housing_cat_encoded = ordinal_encoder.fit_transform(housing_category)\n",
    "housing_cat_encoded[:10]"
   ]
  },
  {
   "cell_type": "code",
   "execution_count": null,
   "id": "82858e5e-f18c-46a3-ad7b-6d30b111e07a",
   "metadata": {},
   "outputs": [],
   "source": [
    "#this code snippet utilizes OneHotEncoder to convert categorical features in housing_category into one-hot encoded vectors, \n",
    "#then converts the resulting sparse matrix into a dense NumPy array for ease of use with various machine learning algorithms.\n",
    "\n",
    "from sklearn.preprocessing import OneHotEncoder\n",
    "\n",
    "cat_encoder = OneHotEncoder()\n",
    "\n",
    "housing_cat_1hot = cat_encoder.fit_transform(housing_category)\n",
    "\n",
    "housing_cat_1hot_dense = housing_cat_1hot.toarray()\n",
    "housing_cat_1hot_dense"
   ]
  },
  {
   "cell_type": "markdown",
   "id": "618a730a-5433-4f8a-904b-50c749e4d6e8",
   "metadata": {
    "jp-MarkdownHeadingCollapsed": true
   },
   "source": [
    "## Feature Engineering"
   ]
  },
  {
   "cell_type": "code",
   "execution_count": null,
   "id": "0ac0bbee-c575-40d0-8aa9-694aecb75a78",
   "metadata": {},
   "outputs": [],
   "source": [
    "    def feature_engineering(data):\n",
    "        data[\"bedrooms_per_household\"] = data[\"total_bedrooms\"] / data[\"households\"]\n",
    "        data[\"population_per_household\"] = data[\"population\"] / data[\"households\"]\n",
    "        data[\"rooms_per_household\"] = data[\"total_rooms\"] / data[\"households\"]\n",
    "\n",
    "        return data"
   ]
  },
  {
   "cell_type": "code",
   "execution_count": null,
   "id": "13483885-0a2a-44b1-b9d5-290ab5f2b391",
   "metadata": {},
   "outputs": [],
   "source": [
    "housing_feature_engineered = feature_engineering(housing_num)\n",
    "housing_feature_engineered"
   ]
  },
  {
   "cell_type": "markdown",
   "id": "1434a258-ac9c-4ce7-8a4f-525dcb05eba0",
   "metadata": {
    "jp-MarkdownHeadingCollapsed": true
   },
   "source": [
    "## Scaling our Data"
   ]
  },
  {
   "cell_type": "code",
   "execution_count": null,
   "id": "f27ae6c1-e0ad-4b55-85d3-a20f2e25b56b",
   "metadata": {},
   "outputs": [],
   "source": [
    "#this code standardizes the features in housing_feature_engineered using StandardScaler, \n",
    "#ensuring that they are centered around zero and have a unit variance, which can often \n",
    "#improve the performance and convergence of machine learning algorithms.\n",
    "\n",
    "from sklearn.preprocessing import StandardScaler\n",
    "scaler = StandardScaler()\n",
    "\n",
    "housing_scaled = scaler.fit_transform(housing_feature_engineered)\n",
    "housing_scaled"
   ]
  },
  {
   "cell_type": "code",
   "execution_count": null,
   "id": "30bbc443-c57e-4526-877b-f3b968d182c1",
   "metadata": {},
   "outputs": [],
   "source": [
    "ml_input_data = np.hstack([housing_cat_1hot_dense, housing_scaled])"
   ]
  },
  {
   "cell_type": "code",
   "execution_count": null,
   "id": "ba6b1b5f-0b42-4e14-a9df-ca9ad79ba61c",
   "metadata": {},
   "outputs": [],
   "source": [
    "#this function encapsulates a complete data preprocessing pipeline, including handling missing values, \n",
    "# performing feature engineering, encoding categorical variables, and scaling numerical features\n",
    "\n",
    "housing = strat_train_set.drop(\"median_house_value\", axis=1)\n",
    "\n",
    "housing_labels = strat_train_set[\"median_house_value\"].copy()\n",
    "\n",
    "def data_transformations(data):\n",
    "\n",
    "    ### Separate Labels if they Exist ###\n",
    "\n",
    "    if \"median_house_value\" in data.columns:\n",
    "        labels = data[\"median_house_value\"]\n",
    "        data = data.drop(\"median_house_value\", axis=1)\n",
    "        \n",
    "    else:\n",
    "        labels = None\n",
    "\n",
    "    ### Feature Engineering ###\n",
    "    feature_engineered_data = feature_engineering(data)\n",
    "    features = list(feature_engineered_data.columns) # Creating a list of our features for future use\n",
    "\n",
    "    ### Imputing Data ###\n",
    "    from sklearn.impute import SimpleImputer\n",
    "    imputer = SimpleImputer(strategy=\"median\")\n",
    "\n",
    "    housing_num = feature_engineered_data.select_dtypes(include=[np.number])\n",
    "    imputed = imputer.fit_transform(housing_num)\n",
    "\n",
    "    ### Encoding Categorical Data ###\n",
    "    housing_cat = feature_engineered_data.select_dtypes(exclude=[np.number])\n",
    "\n",
    "    from sklearn.preprocessing import OneHotEncoder\n",
    "    cat_encoder = OneHotEncoder()\n",
    "    housing_cat_1hot = cat_encoder.fit_transform(housing_cat)\n",
    "    housing_cat_1hot_dense = housing_cat_1hot.toarray()\n",
    "    features = features + cat_encoder.categories_[0].tolist()\n",
    "    features.remove(\"ocean_proximity\") # We're encoding this variable, so we don't need it in our list anymore\n",
    "\n",
    "\n",
    "    ### Scaling Numerical Data ###\n",
    "    from sklearn.preprocessing import StandardScaler\n",
    "    scaler = StandardScaler()\n",
    "\n",
    "    housing_scaled = scaler.fit_transform(imputed)\n",
    "\n",
    "    ### Concatening all Data ###\n",
    "    output = np.hstack([housing_scaled, housing_cat_1hot_dense])\n",
    "\n",
    "    return output, labels, features"
   ]
  },
  {
   "cell_type": "code",
   "execution_count": null,
   "id": "b33bd6d8-1fd2-410c-a493-80b5ee42c924",
   "metadata": {},
   "outputs": [],
   "source": [
    "cat_encoder.categories_[0].tolist()"
   ]
  },
  {
   "cell_type": "markdown",
   "id": "5a641ea8-dcf9-4122-acc6-19b8f553c798",
   "metadata": {},
   "source": [
    "# Select & train model"
   ]
  },
  {
   "cell_type": "code",
   "execution_count": null,
   "id": "b6d474db-6dcd-4cd4-bd7f-e7e304b40bc4",
   "metadata": {},
   "outputs": [],
   "source": [
    "train_data, train_labels, features= data_transformations(strat_train_set)\n",
    "train_data"
   ]
  },
  {
   "cell_type": "code",
   "execution_count": null,
   "id": "a981db87-4904-4a58-8cbd-4683df03e373",
   "metadata": {},
   "outputs": [],
   "source": [
    "features"
   ]
  },
  {
   "cell_type": "code",
   "execution_count": null,
   "id": "fe807d8e-a501-47d1-a001-52a97cee1632",
   "metadata": {},
   "outputs": [],
   "source": [
    "test_data, test_labels, features = data_transformations(strat_test_set)\n",
    "test_data"
   ]
  },
  {
   "cell_type": "markdown",
   "id": "c01ca0d7-99e7-4a0a-adcc-b2e7f8f35da8",
   "metadata": {
    "jp-MarkdownHeadingCollapsed": true
   },
   "source": [
    "## Linear Regression"
   ]
  },
  {
   "cell_type": "code",
   "execution_count": null,
   "id": "a0a8c47f-6eac-4543-b304-228fe9bbe1a6",
   "metadata": {},
   "outputs": [],
   "source": [
    "from sklearn.linear_model import LinearRegression\n",
    "\n",
    "lin_reg = LinearRegression()\n",
    "lin_reg.fit(train_data, train_labels)"
   ]
  },
  {
   "cell_type": "code",
   "execution_count": null,
   "id": "5104ab4d-348c-42f4-b218-79c280433578",
   "metadata": {},
   "outputs": [],
   "source": [
    "#comapre against test data\n",
    "original_values = test_labels[:5]\n",
    "predicted_values = lin_reg.predict(test_data[:5])\n",
    "\n",
    "comparison_dataframe = pd.DataFrame(data={\"Original values\": original_values, \"Predicted values\": predicted_values})\n",
    "\n",
    "comparison_dataframe[\"Differences\"] = comparison_dataframe[\"Original values\"] - comparison_dataframe[\"Predicted values\"]\n",
    "comparison_dataframe"
   ]
  },
  {
   "cell_type": "code",
   "execution_count": null,
   "id": "bfd2c1f8-48bc-4326-a53a-78108cdf3ad8",
   "metadata": {},
   "outputs": [],
   "source": [
    "test_labels[:5]"
   ]
  },
  {
   "cell_type": "code",
   "execution_count": null,
   "id": "cb8cefec-63fd-44b1-b505-84ead2cb22d3",
   "metadata": {},
   "outputs": [],
   "source": [
    "from sklearn.metrics import mean_squared_error\n",
    "\n",
    "lin_mse = mean_squared_error(original_values, predicted_values)\n",
    "lin_rmse = np.sqrt(lin_mse)\n",
    "\n",
    "lin_rmse"
   ]
  },
  {
   "cell_type": "markdown",
   "id": "6e35bc81-61dd-4a52-94a8-8c8c69b4a1f0",
   "metadata": {
    "jp-MarkdownHeadingCollapsed": true
   },
   "source": [
    "## Decision Tree Regressor"
   ]
  },
  {
   "cell_type": "code",
   "execution_count": null,
   "id": "bad4bdde-2764-4f8d-ae34-8844cf307828",
   "metadata": {},
   "outputs": [],
   "source": [
    "from sklearn.tree import DecisionTreeRegressor\n",
    "\n",
    "tree_reg = DecisionTreeRegressor(random_state = 42)\n",
    "tree_reg.fit(train_data, train_labels)"
   ]
  },
  {
   "cell_type": "code",
   "execution_count": null,
   "id": "7e41c75d-feaa-43ec-ac53-3a0b6e484df7",
   "metadata": {},
   "outputs": [],
   "source": [
    "train_predictions = tree_reg.predict(train_data)\n",
    "tree_mse = mean_squared_error(train_labels, train_predictions)\n",
    "tree_rmse = np.sqrt(tree_mse)"
   ]
  },
  {
   "cell_type": "markdown",
   "id": "b51b0daf-8c73-474d-a003-7033f1c792a7",
   "metadata": {
    "jp-MarkdownHeadingCollapsed": true
   },
   "source": [
    "### Cross-Validation"
   ]
  },
  {
   "cell_type": "code",
   "execution_count": null,
   "id": "a5455980-a1bd-40b8-b2f5-01ea898971ce",
   "metadata": {},
   "outputs": [],
   "source": [
    "from sklearn.model_selection import cross_val_score\n",
    "\n",
    "scores = cross_val_score(tree_reg, train_data, train_labels, scoring=\"neg_mean_squared_error\", cv=10)\n",
    "\n",
    "tree_rmse_scores = np.sqrt(-scores)"
   ]
  },
  {
   "cell_type": "code",
   "execution_count": null,
   "id": "c76d140a-1af7-4fe5-85d7-af8ceb1e46f6",
   "metadata": {},
   "outputs": [],
   "source": [
    "def display_scores(scores):\n",
    "    print(\"Scores:\", scores)\n",
    "    print(\"Mean:\", scores.mean())\n",
    "    print(\"Standard deviation:\", scores.std())\n",
    "\n",
    "display_scores(tree_rmse_scores)"
   ]
  },
  {
   "cell_type": "markdown",
   "id": "e24402d1-568f-4a02-98c5-456ddb2085f2",
   "metadata": {
    "jp-MarkdownHeadingCollapsed": true
   },
   "source": [
    "### Random Forest Regressor"
   ]
  },
  {
   "cell_type": "code",
   "execution_count": null,
   "id": "db984368-6e66-42e6-824c-868ac9cf61bc",
   "metadata": {},
   "outputs": [],
   "source": [
    "from sklearn.ensemble import RandomForestRegressor\n",
    "\n",
    "forest_reg = RandomForestRegressor(n_estimators=100, random_state = 42)\n",
    "forest_reg.fit(train_data, train_labels)"
   ]
  },
  {
   "cell_type": "code",
   "execution_count": null,
   "id": "050f0512-9ce3-4a07-aaa8-12c33e835b63",
   "metadata": {},
   "outputs": [],
   "source": [
    "from sklearn.model_selection import cross_val_score\n",
    "\n",
    "forest_scores = cross_val_score(forest_reg, train_data, train_labels, scoring=\"neg_mean_squared_error\", cv=10)\n",
    "\n",
    "forest_rmse_scores = np.sqrt(-scores)\n",
    "display_scores(forest_rmse_scores)"
   ]
  },
  {
   "cell_type": "code",
   "execution_count": null,
   "id": "bfb7ab7d-df9c-464d-a0cc-6e5d4b2e9826",
   "metadata": {},
   "outputs": [],
   "source": [
    "scores = cross_val_score(lin_reg, train_data, train_labels, scoring=\"neg_mean_squared_error\", cv=10)\n",
    "pd.Series(np.sqrt(-scores)).describe()"
   ]
  },
  {
   "cell_type": "markdown",
   "id": "36361773-3e31-44de-b6a8-3041e8212311",
   "metadata": {},
   "source": [
    "## Fine-Tuning the model"
   ]
  },
  {
   "cell_type": "code",
   "execution_count": null,
   "id": "b8217cf0-7d2a-43a1-b546-10729d678cf5",
   "metadata": {},
   "outputs": [],
   "source": [
    "# After running this code, you can access the best parameters and best estimator \n",
    "# through grid_search.best_params_ and grid_search.best_estimator_ , respectively.\n",
    "\n",
    "from sklearn.model_selection import GridSearchCV\n",
    "\n",
    "param_grid = [\n",
    "    # try 12 (3×4) combinations of hyperparameters\n",
    "    {'n_estimators': [3, 10, 30], 'max_features': [2, 4, 6, 8]},\n",
    "    # then try 6 (2×3) combinations with bootstrap set as False\n",
    "    {'bootstrap': [False], 'n_estimators': [3, 10], 'max_features': [2, 3, 4]},\n",
    "  ]\n",
    "\n",
    "forest_reg = RandomForestRegressor(random_state=42)\n",
    "# train across 5 folds, that's a total of (12+6)*5=90 rounds of training \n",
    "grid_search = GridSearchCV(forest_reg, param_grid, cv=5,scoring='neg_mean_squared_error',return_train_score=True)\n",
    "grid_search.fit(train_data, train_labels)"
   ]
  },
  {
   "cell_type": "code",
   "execution_count": null,
   "id": "d3ac3192-6755-462e-b727-8fce27805369",
   "metadata": {},
   "outputs": [],
   "source": [
    "grid_search.best_estimator_"
   ]
  },
  {
   "cell_type": "code",
   "execution_count": null,
   "id": "58cee218-ff05-4f90-b616-b9e98893e3a7",
   "metadata": {},
   "outputs": [],
   "source": [
    "cvres = grid_search.cv_results_\n",
    "for mean_score, params in zip(cvres[\"mean_test_score\"], cvres[\"params\"]):\n",
    "    print(np.sqrt(-mean_score), params)"
   ]
  },
  {
   "cell_type": "markdown",
   "id": "e9c14ce7-1ece-4bc0-ba60-fd8f1b41eaa3",
   "metadata": {},
   "source": [
    "### Randomized Search"
   ]
  },
  {
   "cell_type": "code",
   "execution_count": null,
   "id": "7e411850-840b-4011-82ed-f45770136f7b",
   "metadata": {},
   "outputs": [],
   "source": [
    "from sklearn.model_selection import RandomizedSearchCV\n",
    "from scipy.stats import randint\n",
    "\n",
    "param_distribs = {\n",
    "    'n_estimators': randint(low=1, high=200),\n",
    "    'max_features': randint(low=1, high=8),\n",
    "}\n",
    "\n",
    "forest_reg = RandomForestRegressor(random_state=42)\n",
    "rnd_search = RandomizedSearchCV(forest_reg, param_distributions=param_distribs, n_iter=10, cv=5, scoring='neg_mean_squared_error', random_state=42)\n",
    "\n",
    "rnd_search.fit(train_data, train_labels)"
   ]
  },
  {
   "cell_type": "code",
   "execution_count": null,
   "id": "3117e50a-6081-47a5-aed6-edecfb7fc76b",
   "metadata": {},
   "outputs": [],
   "source": [
    "#this code snippet is useful for inspecting the results of a cross-validated grid search for hyperparameter tuning. \n",
    "#It prints out the root mean squared error, RMSE, for regression tasks along with the corresponding hyperparameters \n",
    "#for each model configuration tested during the grid search.\n",
    "\n",
    "cvres = rnd_search.cv_results_\n",
    "for mean_score, params in zip(cvres[\"mean_test_score\"], cvres[\"params\"]):\n",
    "    print(np.sqrt(-mean_score), params)"
   ]
  },
  {
   "cell_type": "code",
   "execution_count": 140,
   "id": "1411b23a-a9d8-48ae-b608-b7be2b523e09",
   "metadata": {},
   "outputs": [
    {
     "data": {
      "text/plain": [
       "array([8.46978272e-02, 7.69983975e-02, 4.08715796e-02, 1.67325719e-02,\n",
       "       1.71418340e-02, 1.73518185e-02, 1.56303531e-02, 3.39824215e-01,\n",
       "       2.30528104e-02, 1.04033701e-01, 8.64983594e-02, 1.29273143e-02,\n",
       "       1.54663950e-01, 7.22217547e-05, 3.62205279e-03, 5.88099358e-03])"
      ]
     },
     "execution_count": 140,
     "metadata": {},
     "output_type": "execute_result"
    }
   ],
   "source": [
    "#After running this code, we can analyze feature_importances to understand which features \n",
    "# were most influential in the model's predictions. This information can be valuable \n",
    "#for feature selection, understanding the dataset, and potentially improving the model.\n",
    "\n",
    "feature_importances = grid_search.best_estimator_.feature_importances_\n",
    "feature_importances"
   ]
  },
  {
   "cell_type": "markdown",
   "id": "bd6329f3-8b5a-466c-913d-e31ee537ed22",
   "metadata": {},
   "source": [
    "### Feature Importance List"
   ]
  },
  {
   "cell_type": "code",
   "execution_count": 143,
   "id": "e576a26c-5363-46a0-b413-bd5652ee490b",
   "metadata": {},
   "outputs": [
    {
     "data": {
      "text/plain": [
       "[('longitude', 0.0846978271965227),\n",
       " ('latitude', 0.07699839747855737),\n",
       " ('housing_median_age', 0.040871579612884096),\n",
       " ('total_rooms', 0.016732571900462085),\n",
       " ('total_bedrooms', 0.01714183399184058),\n",
       " ('population', 0.0173518184721046),\n",
       " ('households', 0.015630353131298083),\n",
       " ('median_income', 0.3398242154869636),\n",
       " ('bedrooms_per_household', 0.023052810363875926),\n",
       " ('population_per_household', 0.10403370064780083),\n",
       " ('rooms_per_household', 0.08649835942626646),\n",
       " ('<1H OCEAN', 0.012927314349565632),\n",
       " ('INLAND', 0.15466394981681342),\n",
       " ('ISLAND', 7.222175467748088e-05),\n",
       " ('NEAR BAY', 0.003622052794433035),\n",
       " ('NEAR OCEAN', 0.005880993575933963)]"
      ]
     },
     "execution_count": 143,
     "metadata": {},
     "output_type": "execute_result"
    }
   ],
   "source": [
    "feature_importance_list = list(zip(features, feature_importances.tolist()))\n",
    "feature_importance_list"
   ]
  },
  {
   "cell_type": "code",
   "execution_count": 138,
   "id": "12f9621f-acb7-4604-90f2-75b30e97855b",
   "metadata": {},
   "outputs": [
    {
     "data": {
      "text/plain": [
       "<BarContainer object of 16 artists>"
      ]
     },
     "execution_count": 138,
     "metadata": {},
     "output_type": "execute_result"
    },
    {
     "data": {
      "image/png": "[encoded data removed]",
      "text/plain": [
       "<Figure size 640x480 with 1 Axes>"
      ]
     },
     "metadata": {},
     "output_type": "display_data"
    }
   ],
   "source": [
    "plt.barh(y=features, width=feature_importances.tolist())"
   ]
  },
  {
   "cell_type": "code",
   "execution_count": 136,
   "id": "70c499d4-45ab-4b25-84f1-718261154e06",
   "metadata": {},
   "outputs": [],
   "source": [
    "final_model = grid_search.best_estimator_\n",
    "\n",
    "final_predictions = final_model.predict(test_data)\n",
    "\n",
    "final_mse = mean_squared_error(test_labels, final_predictions)\n",
    "final_rmse = np.sqrt(final_mse)"
   ]
  },
  {
   "cell_type": "code",
   "execution_count": 137,
   "id": "6ffd0ec3-21e7-4bca-8928-28f57ae16ac0",
   "metadata": {},
   "outputs": [
    {
     "data": {
      "text/plain": [
       "63301.179203602675"
      ]
     },
     "execution_count": 137,
     "metadata": {},
     "output_type": "execute_result"
    }
   ],
   "source": [
    "final_rmse"
   ]
  },
  {
   "cell_type": "code",
   "execution_count": null,
   "id": "7302c8f2-848c-4dbc-bb80-89c099947ede",
   "metadata": {},
   "outputs": [],
   "source": []
  }
 ],
 "metadata": {
  "kernelspec": {
   "display_name": "Python 3 (ipykernel)",
   "language": "python",
   "name": "python3"
  },
  "language_info": {
   "codemirror_mode": {
    "name": "ipython",
    "version": 3
   },
   "file_extension": ".py",
   "mimetype": "text/x-python",
   "name": "python",
   "nbconvert_exporter": "python",
   "pygments_lexer": "ipython3",
   "version": "3.11.7"
  }
 },
 "nbformat": 4,
 "nbformat_minor": 5
}
